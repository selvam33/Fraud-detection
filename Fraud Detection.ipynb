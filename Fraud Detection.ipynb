{
 "cells": [
  {
   "cell_type": "code",
   "execution_count": 0,
   "metadata": {
    "colab": {},
    "colab_type": "code",
    "id": "KzIjV2m7RXuE"
   },
   "outputs": [],
   "source": [
    "import os\n",
    "os.environ['KAGGLE_USERNAME'] = \"selvam02cs33\" # username from the json file \n",
    "os.environ['KAGGLE_KEY'] = \"97c899f6eebbb72a4403830938dda036\" # key from the json file\n",
    "!kaggle competitions download -c ieee-fraud-detection # api copied from kaggle"
   ]
  },
  {
   "cell_type": "code",
   "execution_count": 0,
   "metadata": {
    "colab": {},
    "colab_type": "code",
    "id": "5FyPfqXBi8VY"
   },
   "outputs": [],
   "source": [
    "import numpy as np # linear algebra\n",
    "import pandas as pd # data processing, CSV file I/O (e.g. pd.read_csv)\n",
    "from sklearn import preprocessing # encoding \n",
    "from sklearn.linear_model import LogisticRegression # regression model\n",
    "from sklearn.pipeline import Pipeline # transforms with a final estimator\n",
    "from sklearn.preprocessing import Imputer # imputing the missing values\n",
    "import matplotlib.pyplot as plt # Visualization graph\n",
    "import seaborn as sns # data visualization\n",
    "sns.set()"
   ]
  },
  {
   "cell_type": "markdown",
   "metadata": {
    "colab_type": "text",
    "id": "C3Vr3QOAxzRN"
   },
   "source": [
    "Import the **training data**"
   ]
  },
  {
   "cell_type": "code",
   "execution_count": 0,
   "metadata": {
    "colab": {},
    "colab_type": "code",
    "id": "lmSJrjgpi-zF"
   },
   "outputs": [],
   "source": [
    "data_tr_i = pd.read_csv('train_identity.csv.zip', low_memory= True)\n",
    "data_tr_t = pd.read_csv('train_transaction.csv.zip', low_memory= True)"
   ]
  },
  {
   "cell_type": "markdown",
   "metadata": {
    "colab_type": "text",
    "id": "A2DuCEM_yFE_"
   },
   "source": [
    "Filter the data column which got Nan value less than 80 % and merge the two dataframe"
   ]
  },
  {
   "cell_type": "code",
   "execution_count": 0,
   "metadata": {
    "colab": {},
    "colab_type": "code",
    "id": "ZqWRRKvPjBqU"
   },
   "outputs": [],
   "source": [
    "data_train_trans_filtered = data_tr_t.loc[:, data_tr_t.isnull().mean() < .8]\n",
    "data_train_ident_filtered = data_tr_i.loc[:, data_tr_i.isnull().mean() < .8]\n",
    "\n",
    "df_train = data_train_trans_filtered.merge(data_train_ident_filtered, on='TransactionID', how='left')\n"
   ]
  },
  {
   "cell_type": "markdown",
   "metadata": {
    "colab_type": "text",
    "id": "uBtbsmYcycBQ"
   },
   "source": [
    "Import the **test data**"
   ]
  },
  {
   "cell_type": "code",
   "execution_count": 0,
   "metadata": {
    "colab": {},
    "colab_type": "code",
    "id": "azsyNNeljJhv"
   },
   "outputs": [],
   "source": [
    "data_te_i = pd.read_csv('test_identity.csv.zip', low_memory= True)\n",
    "data_te_t = pd.read_csv('test_transaction.csv.zip', low_memory= True)"
   ]
  },
  {
   "cell_type": "markdown",
   "metadata": {
    "colab_type": "text",
    "id": "xxOiYXsYyjwy"
   },
   "source": [
    "Filter the data column which got Nan value less than 80 % and merge the two dataframe"
   ]
  },
  {
   "cell_type": "code",
   "execution_count": 0,
   "metadata": {
    "colab": {},
    "colab_type": "code",
    "id": "AsKLWD4_jPXn"
   },
   "outputs": [],
   "source": [
    "data_test_trans_filtered = data_te_t.loc[:, data_te_t.isnull().mean() < .8]\n",
    "data_test_ident_filtered = data_te_i.loc[:, data_te_i.isnull().mean() < .8]\n",
    "\n",
    "df_test = data_test_trans_filtered.merge(data_test_ident_filtered, on='TransactionID', how='left')\n"
   ]
  },
  {
   "cell_type": "markdown",
   "metadata": {
    "colab_type": "text",
    "id": "A3jfQoxNynPu"
   },
   "source": [
    "After filtering out the train and test data, checking which are columns are available in test data"
   ]
  },
  {
   "cell_type": "code",
   "execution_count": 0,
   "metadata": {
    "colab": {
     "base_uri": "https://localhost:8080/",
     "height": 68
    },
    "colab_type": "code",
    "executionInfo": {
     "elapsed": 668,
     "status": "ok",
     "timestamp": 1568279490182,
     "user": {
      "displayName": "",
      "photoUrl": "",
      "userId": ""
     },
     "user_tz": -330
    },
    "id": "WJEKVM2ejSN8",
    "outputId": "b5a96f13-a5e6-4bee-ef9a-4a002a11ce34"
   },
   "outputs": [
    {
     "name": "stdout",
     "output_type": "stream",
     "text": [
      "Index(['D13', 'D14', 'D6'], dtype='object')\n",
      "Index(['isFraud'], dtype='object')\n"
     ]
    },
    {
     "data": {
      "text/plain": [
       "((590540, 370), (506691, 372))"
      ]
     },
     "execution_count": 56,
     "metadata": {
      "tags": []
     },
     "output_type": "execute_result"
    }
   ],
   "source": [
    "print(df_test.columns.difference(df_train.columns))\n",
    "print(df_train.columns.difference(df_test.columns))\n",
    "\n",
    "\n",
    "df_train.shape, df_test.shape"
   ]
  },
  {
   "cell_type": "code",
   "execution_count": 0,
   "metadata": {
    "colab": {
     "base_uri": "https://localhost:8080/",
     "height": 291
    },
    "colab_type": "code",
    "executionInfo": {
     "elapsed": 668,
     "status": "ok",
     "timestamp": 1568277354429,
     "user": {
      "displayName": "",
      "photoUrl": "",
      "userId": ""
     },
     "user_tz": -330
    },
    "id": "iGs-MR4zlib4",
    "outputId": "9bffb026-0775-4200-f0e8-51d1466b802d"
   },
   "outputs": [
    {
     "data": {
      "image/png": "[encoded data removed]",
      "text/plain": [
       "<Figure size 432x288 with 1 Axes>"
      ]
     },
     "metadata": {
      "tags": []
     },
     "output_type": "display_data"
    }
   ],
   "source": [
    "sns.countplot(x='isFraud',data=df_train, palette='hls')\n",
    "plt.show()"
   ]
  },
  {
   "cell_type": "markdown",
   "metadata": {
    "colab_type": "text",
    "id": "M0NE8A3izDJ2"
   },
   "source": [
    "Dropping the Columns which is not needed"
   ]
  },
  {
   "cell_type": "code",
   "execution_count": 0,
   "metadata": {
    "colab": {},
    "colab_type": "code",
    "id": "EuUKxJyHjVog"
   },
   "outputs": [],
   "source": [
    "X_train = df_train.drop(columns=['TransactionID', 'TransactionDT', 'isFraud'])\n",
    "X_test = df_test.drop(columns=['TransactionID', 'TransactionDT', 'D13','D14','D6'])\n",
    "y_train = df_train['isFraud']"
   ]
  },
  {
   "cell_type": "markdown",
   "metadata": {
    "colab_type": "text",
    "id": "XXUy9SEpzLJe"
   },
   "source": [
    "Encoding the train and test data"
   ]
  },
  {
   "cell_type": "code",
   "execution_count": 0,
   "metadata": {
    "colab": {},
    "colab_type": "code",
    "id": "zlueJ1W-jcl4"
   },
   "outputs": [],
   "source": [
    "def lable_encode(dataset):\n",
    "  for col in dataset.columns:\n",
    "    if dataset[col].dtype=='object':\n",
    "      print('lable encoding', col)\n",
    "      lbl = preprocessing.LabelEncoder()\n",
    "      lbl.fit(list(dataset[col].values))\n",
    "      dataset[col]= lbl.transform(list(dataset[col].values))\n",
    "  return"
   ]
  },
  {
   "cell_type": "code",
   "execution_count": 0,
   "metadata": {
    "colab": {
     "base_uri": "https://localhost:8080/",
     "height": 510
    },
    "colab_type": "code",
    "executionInfo": {
     "elapsed": 33955,
     "status": "ok",
     "timestamp": 1568276666486,
     "user": {
      "displayName": "",
      "photoUrl": "",
      "userId": ""
     },
     "user_tz": -330
    },
    "id": "pV9DyEH4kG7M",
    "outputId": "e027ece7-e97b-4341-961b-6e3084aad13a"
   },
   "outputs": [
    {
     "name": "stdout",
     "output_type": "stream",
     "text": [
      "lable encoding ProductCD\n",
      "lable encoding card4\n",
      "lable encoding card6\n",
      "lable encoding P_emaildomain\n",
      "lable encoding R_emaildomain\n",
      "lable encoding M1\n",
      "lable encoding M2\n",
      "lable encoding M3\n",
      "lable encoding M4\n",
      "lable encoding M5\n",
      "lable encoding M6\n",
      "lable encoding M7\n",
      "lable encoding M8\n",
      "lable encoding M9\n",
      "lable encoding id_12\n",
      "lable encoding id_15\n",
      "lable encoding id_16\n",
      "lable encoding id_28\n",
      "lable encoding id_29\n",
      "lable encoding id_30\n",
      "lable encoding id_31\n",
      "lable encoding id_33\n",
      "lable encoding id_34\n",
      "lable encoding id_35\n",
      "lable encoding id_36\n",
      "lable encoding id_37\n",
      "lable encoding id_38\n",
      "lable encoding DeviceType\n",
      "lable encoding DeviceInfo\n"
     ]
    }
   ],
   "source": [
    "lable_encode(X_train)"
   ]
  },
  {
   "cell_type": "code",
   "execution_count": 0,
   "metadata": {
    "colab": {
     "base_uri": "https://localhost:8080/",
     "height": 510
    },
    "colab_type": "code",
    "executionInfo": {
     "elapsed": 27784,
     "status": "ok",
     "timestamp": 1568276698025,
     "user": {
      "displayName": "",
      "photoUrl": "",
      "userId": ""
     },
     "user_tz": -330
    },
    "id": "7TmlF_y8kdwr",
    "outputId": "3360df8b-11be-4be3-dcfa-a81cadae25cd"
   },
   "outputs": [
    {
     "name": "stdout",
     "output_type": "stream",
     "text": [
      "lable encoding ProductCD\n",
      "lable encoding card4\n",
      "lable encoding card6\n",
      "lable encoding P_emaildomain\n",
      "lable encoding R_emaildomain\n",
      "lable encoding M1\n",
      "lable encoding M2\n",
      "lable encoding M3\n",
      "lable encoding M4\n",
      "lable encoding M5\n",
      "lable encoding M6\n",
      "lable encoding M7\n",
      "lable encoding M8\n",
      "lable encoding M9\n",
      "lable encoding id_12\n",
      "lable encoding id_15\n",
      "lable encoding id_16\n",
      "lable encoding id_28\n",
      "lable encoding id_29\n",
      "lable encoding id_30\n",
      "lable encoding id_31\n",
      "lable encoding id_33\n",
      "lable encoding id_34\n",
      "lable encoding id_35\n",
      "lable encoding id_36\n",
      "lable encoding id_37\n",
      "lable encoding id_38\n",
      "lable encoding DeviceType\n",
      "lable encoding DeviceInfo\n"
     ]
    }
   ],
   "source": [
    "lable_encode(X_test)"
   ]
  },
  {
   "cell_type": "code",
   "execution_count": 0,
   "metadata": {
    "colab": {
     "base_uri": "https://localhost:8080/",
     "height": 51
    },
    "colab_type": "code",
    "executionInfo": {
     "elapsed": 806,
     "status": "ok",
     "timestamp": 1568276755292,
     "user": {
      "displayName": "",
      "photoUrl": "",
      "userId": ""
     },
     "user_tz": -330
    },
    "id": "sa1noSkQksUQ",
    "outputId": "72611589-ce96-41d9-bb97-01f9b4802099"
   },
   "outputs": [
    {
     "name": "stdout",
     "output_type": "stream",
     "text": [
      "Index([], dtype='object')\n"
     ]
    },
    {
     "data": {
      "text/plain": [
       "((506691, 367), (590540, 367))"
      ]
     },
     "execution_count": 19,
     "metadata": {
      "tags": []
     },
     "output_type": "execute_result"
    }
   ],
   "source": [
    "print(X_test.columns.difference(X_train.columns))\n",
    "\n",
    "X_test.shape, X_train.shape"
   ]
  },
  {
   "cell_type": "markdown",
   "metadata": {
    "colab_type": "text",
    "id": "WN5azW_AzWmz"
   },
   "source": [
    "**Using Logistic model**"
   ]
  },
  {
   "cell_type": "code",
   "execution_count": 0,
   "metadata": {
    "colab": {},
    "colab_type": "code",
    "id": "pefg_u0WlC_9"
   },
   "outputs": [],
   "source": [
    "imp = Imputer(missing_values='NaN', strategy='median', axis=0)\n",
    "logreg = LogisticRegression(class_weight='balanced')\n",
    "steps = [('imputation', imp),('logistic_regression', logreg)]\n",
    "pipeline = Pipeline(steps)\n",
    "pipeline.fit(X_train, y_train)"
   ]
  },
  {
   "cell_type": "markdown",
   "metadata": {
    "colab_type": "text",
    "id": "8I1duMEXzrNO"
   },
   "source": [
    "**Model Prediction**"
   ]
  },
  {
   "cell_type": "code",
   "execution_count": 0,
   "metadata": {
    "colab": {
     "base_uri": "https://localhost:8080/",
     "height": 34
    },
    "colab_type": "code",
    "executionInfo": {
     "elapsed": 4801,
     "status": "ok",
     "timestamp": 1568279321475,
     "user": {
      "displayName": "",
      "photoUrl": "",
      "userId": ""
     },
     "user_tz": -330
    },
    "id": "FQ_Kj-33rvnH",
    "outputId": "e0205d0f-8d21-4d90-dbcd-35767a4e7205"
   },
   "outputs": [
    {
     "data": {
      "text/plain": [
       "0.7768381481356047"
      ]
     },
     "execution_count": 55,
     "metadata": {
      "tags": []
     },
     "output_type": "execute_result"
    }
   ],
   "source": [
    "y_pred = pipeline.predict(X_test)\n",
    "pipeline.score(X_train, y_train)"
   ]
  },
  {
   "cell_type": "markdown",
   "metadata": {
    "colab_type": "text",
    "id": "GyhRqQTSzwFT"
   },
   "source": [
    "**Submit data**"
   ]
  },
  {
   "cell_type": "code",
   "execution_count": 0,
   "metadata": {
    "colab": {
     "base_uri": "https://localhost:8080/",
     "height": 204
    },
    "colab_type": "code",
    "executionInfo": {
     "elapsed": 2479,
     "status": "ok",
     "timestamp": 1568277218488,
     "user": {
      "displayName": "",
      "photoUrl": "",
      "userId": ""
     },
     "user_tz": -330
    },
    "id": "-Tpzz_dslMaM",
    "outputId": "51fa6267-74be-4eca-d230-51cdcd1161dc"
   },
   "outputs": [
    {
     "data": {
      "text/html": [
       "<div>\n",
       "<style scoped>\n",
       "    .dataframe tbody tr th:only-of-type {\n",
       "        vertical-align: middle;\n",
       "    }\n",
       "\n",
       "    .dataframe tbody tr th {\n",
       "        vertical-align: top;\n",
       "    }\n",
       "\n",
       "    .dataframe thead th {\n",
       "        text-align: right;\n",
       "    }\n",
       "</style>\n",
       "<table border=\"1\" class=\"dataframe\">\n",
       "  <thead>\n",
       "    <tr style=\"text-align: right;\">\n",
       "      <th></th>\n",
       "      <th>TransactionID</th>\n",
       "      <th>isFraud</th>\n",
       "    </tr>\n",
       "  </thead>\n",
       "  <tbody>\n",
       "    <tr>\n",
       "      <th>0</th>\n",
       "      <td>3663549</td>\n",
       "      <td>0</td>\n",
       "    </tr>\n",
       "    <tr>\n",
       "      <th>1</th>\n",
       "      <td>3663550</td>\n",
       "      <td>0</td>\n",
       "    </tr>\n",
       "    <tr>\n",
       "      <th>2</th>\n",
       "      <td>3663551</td>\n",
       "      <td>0</td>\n",
       "    </tr>\n",
       "    <tr>\n",
       "      <th>3</th>\n",
       "      <td>3663552</td>\n",
       "      <td>0</td>\n",
       "    </tr>\n",
       "    <tr>\n",
       "      <th>4</th>\n",
       "      <td>3663553</td>\n",
       "      <td>0</td>\n",
       "    </tr>\n",
       "  </tbody>\n",
       "</table>\n",
       "</div>"
      ],
      "text/plain": [
       "   TransactionID  isFraud\n",
       "0        3663549        0\n",
       "1        3663550        0\n",
       "2        3663551        0\n",
       "3        3663552        0\n",
       "4        3663553        0"
      ]
     },
     "execution_count": 21,
     "metadata": {
      "tags": []
     },
     "output_type": "execute_result"
    }
   ],
   "source": [
    "submit = pd.read_csv('sample_submission.csv.zip')\n",
    "submit['isFraud'] = y_pred\n",
    "submit.to_csv('submission.csv', index=False)\n",
    "submit.head()"
   ]
  },
  {
   "cell_type": "code",
   "execution_count": 0,
   "metadata": {
    "colab": {},
    "colab_type": "code",
    "id": "23bQizUzuTKl"
   },
   "outputs": [],
   "source": []
  }
 ],
 "metadata": {
  "accelerator": "GPU",
  "colab": {
   "collapsed_sections": [],
   "machine_shape": "hm",
   "name": "Copy of Welcome To Colaboratory",
   "provenance": [
    {
     "file_id": "/v2/external/notebooks/welcome.ipynb",
     "timestamp": 1568282483329
    }
   ],
   "toc_visible": true,
   "version": "0.3.2"
  },
  "kernelspec": {
   "display_name": "Python 3",
   "language": "python",
   "name": "python3"
  },
  "language_info": {
   "codemirror_mode": {
    "name": "ipython",
    "version": 3
   },
   "file_extension": ".py",
   "mimetype": "text/x-python",
   "name": "python",
   "nbconvert_exporter": "python",
   "pygments_lexer": "ipython3",
   "version": "3.5.5"
  }
 },
 "nbformat": 4,
 "nbformat_minor": 1
}
